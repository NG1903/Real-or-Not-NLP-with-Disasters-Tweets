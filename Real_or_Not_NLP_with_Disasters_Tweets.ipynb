{
 "cells": [
  {
   "cell_type": "markdown",
   "metadata": {},
   "source": [
    "Importing Libraries"
   ]
  },
  {
   "cell_type": "code",
   "execution_count": 1,
   "metadata": {},
   "outputs": [],
   "source": [
    "import pandas as pd\n",
    "import numpy as np\n",
    "import nltk\n",
    "import re\n",
    "from nltk.corpus import stopwords\n",
    "from nltk.stem import WordNetLemmatizer\n",
    "from sklearn.feature_extraction.text import TfidfVectorizer\n",
    "from sklearn.model_selection import train_test_split\n",
    "from sklearn.feature_selection import chi2\n",
    "from autocorrect import Speller\n",
    "import matplotlib.pyplot as plt\n",
    "import seaborn as sns\n",
    "spell = Speller(lang='en')"
   ]
  },
  {
   "cell_type": "markdown",
   "metadata": {},
   "source": [
    "Confusion Matrix"
   ]
  },
  {
   "cell_type": "code",
   "execution_count": 2,
   "metadata": {},
   "outputs": [],
   "source": [
    "def confusion(y, predicted):\n",
    "    conf_matrix = confusion_matrix(y, predicted)\n",
    "    plt.figure(figsize=(12.8,6))\n",
    "    sns.heatmap(conf_matrix, \n",
    "                annot=True,\n",
    "                cmap=\"Blues\")\n",
    "    plt.ylabel('Predicted')\n",
    "    plt.xlabel('Actual')\n",
    "    plt.title('Confusion matrix')\n",
    "    plt.show()"
   ]
  },
  {
   "cell_type": "markdown",
   "metadata": {},
   "source": [
    "## Importing the data\n"
   ]
  },
  {
   "cell_type": "code",
   "execution_count": 3,
   "metadata": {},
   "outputs": [
    {
     "data": {
      "text/html": [
       "<div>\n",
       "<style scoped>\n",
       "    .dataframe tbody tr th:only-of-type {\n",
       "        vertical-align: middle;\n",
       "    }\n",
       "\n",
       "    .dataframe tbody tr th {\n",
       "        vertical-align: top;\n",
       "    }\n",
       "\n",
       "    .dataframe thead th {\n",
       "        text-align: right;\n",
       "    }\n",
       "</style>\n",
       "<table border=\"1\" class=\"dataframe\">\n",
       "  <thead>\n",
       "    <tr style=\"text-align: right;\">\n",
       "      <th></th>\n",
       "      <th>id</th>\n",
       "      <th>keyword</th>\n",
       "      <th>location</th>\n",
       "      <th>text</th>\n",
       "      <th>target</th>\n",
       "    </tr>\n",
       "  </thead>\n",
       "  <tbody>\n",
       "    <tr>\n",
       "      <th>0</th>\n",
       "      <td>1</td>\n",
       "      <td>NaN</td>\n",
       "      <td>NaN</td>\n",
       "      <td>Our Deeds are the Reason of this #earthquake M...</td>\n",
       "      <td>1</td>\n",
       "    </tr>\n",
       "    <tr>\n",
       "      <th>1</th>\n",
       "      <td>4</td>\n",
       "      <td>NaN</td>\n",
       "      <td>NaN</td>\n",
       "      <td>Forest fire near La Ronge Sask. Canada</td>\n",
       "      <td>1</td>\n",
       "    </tr>\n",
       "    <tr>\n",
       "      <th>2</th>\n",
       "      <td>5</td>\n",
       "      <td>NaN</td>\n",
       "      <td>NaN</td>\n",
       "      <td>All residents asked to 'shelter in place' are ...</td>\n",
       "      <td>1</td>\n",
       "    </tr>\n",
       "    <tr>\n",
       "      <th>3</th>\n",
       "      <td>6</td>\n",
       "      <td>NaN</td>\n",
       "      <td>NaN</td>\n",
       "      <td>13,000 people receive #wildfires evacuation or...</td>\n",
       "      <td>1</td>\n",
       "    </tr>\n",
       "    <tr>\n",
       "      <th>4</th>\n",
       "      <td>7</td>\n",
       "      <td>NaN</td>\n",
       "      <td>NaN</td>\n",
       "      <td>Just got sent this photo from Ruby #Alaska as ...</td>\n",
       "      <td>1</td>\n",
       "    </tr>\n",
       "  </tbody>\n",
       "</table>\n",
       "</div>"
      ],
      "text/plain": [
       "   id keyword location                                               text  \\\n",
       "0   1     NaN      NaN  Our Deeds are the Reason of this #earthquake M...   \n",
       "1   4     NaN      NaN             Forest fire near La Ronge Sask. Canada   \n",
       "2   5     NaN      NaN  All residents asked to 'shelter in place' are ...   \n",
       "3   6     NaN      NaN  13,000 people receive #wildfires evacuation or...   \n",
       "4   7     NaN      NaN  Just got sent this photo from Ruby #Alaska as ...   \n",
       "\n",
       "   target  \n",
       "0       1  \n",
       "1       1  \n",
       "2       1  \n",
       "3       1  \n",
       "4       1  "
      ]
     },
     "execution_count": 3,
     "metadata": {},
     "output_type": "execute_result"
    }
   ],
   "source": [
    "df = pd.read_csv('train.csv', encoding='utf-8')\n",
    "df_test = pd.read_csv('test.csv', encoding='utf-8')\n",
    "submission = pd.read_csv('submission.csv', encoding='utf-8')\n",
    "df.head()"
   ]
  },
  {
   "cell_type": "code",
   "execution_count": 4,
   "metadata": {},
   "outputs": [
    {
     "data": {
      "text/plain": [
       "0    4342\n",
       "1    3271\n",
       "Name: target, dtype: int64"
      ]
     },
     "execution_count": 4,
     "metadata": {},
     "output_type": "execute_result"
    }
   ],
   "source": [
    "df['target'].value_counts()"
   ]
  },
  {
   "cell_type": "markdown",
   "metadata": {},
   "source": [
    "The data is not skewed so we're good to go."
   ]
  },
  {
   "cell_type": "markdown",
   "metadata": {},
   "source": [
    "Printing random tweets to check how the text looks like and their target"
   ]
  },
  {
   "cell_type": "code",
   "execution_count": 5,
   "metadata": {},
   "outputs": [
    {
     "name": "stdout",
     "output_type": "stream",
     "text": [
      "@abran_caballero Discovered by @NickCannon \n",
      " Listen/Buy @realmandyrain #RIOT on @iTunesMusic @iTunes https://t.co/dehMym5lpk Û_ #BlowMandyUp. Target is '0'\n"
     ]
    }
   ],
   "source": [
    "x = np.random.randint(df.shape[0])\n",
    "print(\"{}. Target is '{}'\".format(df.iloc[x]['text'], df.iloc[x]['target']))"
   ]
  },
  {
   "cell_type": "markdown",
   "metadata": {},
   "source": [
    "# Cleaning the Tweets\n"
   ]
  },
  {
   "cell_type": "code",
   "execution_count": 6,
   "metadata": {},
   "outputs": [],
   "source": [
    "# Removing hashtags\n",
    "regex = r'[#|@]\\w+'\n",
    "df['cleaned_text'] = df['text'].str.replace(regex, \"\")\n",
    "# remove urls\n",
    "regex = r'http\\S+'\n",
    "df['cleaned_text'] = df['cleaned_text'].str.replace(regex, \"\")\n",
    "# remove html tags\n",
    "regex = '[^\\w\\s]|_'\n",
    "df['cleaned_text'] = df['cleaned_text'].str.replace(regex, \" \")\n",
    "# removing next line characters\n",
    "df['cleaned_text'] = df['cleaned_text'].str.replace('\\n', '')\n",
    "# Lower case all the text\n",
    "df['cleaned_text'] = df['cleaned_text'].str.lower()\n",
    "# Keeping only words which are greater than two characters\n",
    "df['cleaned_text'] = df['cleaned_text'].str.findall('\\w{3,}').str.join(' ')\n",
    "\"\"\"\n",
    "<------------------------------------------------------------------------------------------------------------->\n",
    "\"\"\"\n",
    "# Same for the test case\n",
    "regex = r'[#|@]\\w+'\n",
    "df_test['cleaned_text'] = df_test['text'].str.replace(regex, \"\")\n",
    "regex = r'http\\S+'\n",
    "df_test['cleaned_text'] = df_test['cleaned_text'].str.replace(regex, \"\")\n",
    "regex = '[^\\w\\s]|_'\n",
    "df_test['cleaned_text'] = df_test['cleaned_text'].str.replace(regex, \" \")\n",
    "df_test['cleaned_text'] = df_test['cleaned_text'].str.replace('\\n', '')\n",
    "df_test['cleaned_text'] = df_test['cleaned_text'].str.lower()\n",
    "df_test['cleaned_text'] = df_test['cleaned_text'].str.findall('\\w{3,}').str.join(' ')"
   ]
  },
  {
   "cell_type": "markdown",
   "metadata": {},
   "source": [
    "Removing stop words"
   ]
  },
  {
   "cell_type": "code",
   "execution_count": 7,
   "metadata": {},
   "outputs": [],
   "source": [
    "stop_words = list(stopwords.words('english'))"
   ]
  },
  {
   "cell_type": "code",
   "execution_count": 8,
   "metadata": {},
   "outputs": [],
   "source": [
    "for stop_word in stop_words:\n",
    "    regex_stopword = r\"\\b\" + stop_word + r\"\\b\"\n",
    "    df['cleaned_text'] = df['cleaned_text'].str.replace(regex_stopword, \"\")\n",
    "    df_test['cleaned_text'] = df_test['cleaned_text'].str.replace(regex_stopword, \"\")"
   ]
  },
  {
   "cell_type": "markdown",
   "metadata": {},
   "source": [
    "Remove excessive spaces between characters"
   ]
  },
  {
   "cell_type": "code",
   "execution_count": 9,
   "metadata": {},
   "outputs": [],
   "source": [
    "df['space'] = df['cleaned_text'].str.split(' +')\n",
    "df['cleaned_text'] = df['space'].apply(' '.join)\n",
    "\n",
    "df_test['space'] = df_test['cleaned_text'].str.split(' +')\n",
    "df_test['cleaned_text'] = df_test['space'].apply(' '.join)"
   ]
  },
  {
   "cell_type": "markdown",
   "metadata": {},
   "source": [
    "Now we can check how the cleaned tweets look"
   ]
  },
  {
   "cell_type": "code",
   "execution_count": 10,
   "metadata": {},
   "outputs": [
    {
     "name": "stdout",
     "output_type": "stream",
     "text": [
      "If you can't have the roar of the waves a rainstorm &amp; some rollingÛ_ https://t.co/DlVYFvnQee \n",
      "  roar waves rainstorm amp rolling\n"
     ]
    }
   ],
   "source": [
    "x = np.random.randint(df.shape[0])\n",
    "print(\"{} \\n {}\".format(df.iloc[x]['text'], df.iloc[x]['cleaned_text']))"
   ]
  },
  {
   "cell_type": "markdown",
   "metadata": {},
   "source": [
    "## Stemming & Lemmetising"
   ]
  },
  {
   "cell_type": "code",
   "execution_count": 11,
   "metadata": {},
   "outputs": [],
   "source": [
    "stemmer = nltk.stem.PorterStemmer()\n",
    "df['Porter_stemmed'] = df['cleaned_text'].apply(lambda x: ' '.join(stemmer.stem(y) for y in x.split()))\n",
    "df_test['Porter_stemmed'] = df_test['cleaned_text'].apply(lambda x: ' '.join(stemmer.stem(y) for y in x.split()))"
   ]
  },
  {
   "cell_type": "code",
   "execution_count": 12,
   "metadata": {},
   "outputs": [],
   "source": [
    "df['Lemmatized'] = df['cleaned_text'].apply(lambda x: ' '.join(WordNetLemmatizer().lemmatize(word, pos=\"v\") for word in x.split()))\n",
    "df_test['Lemmatized'] = df_test['cleaned_text'].apply(lambda x: ' '.join(WordNetLemmatizer().lemmatize(word, pos=\"v\") for word in x.split()))"
   ]
  },
  {
   "cell_type": "code",
   "execution_count": 13,
   "metadata": {},
   "outputs": [
    {
     "name": "stdout",
     "output_type": "stream",
     "text": [
      "Cleaned tweet : aubrey really body bagging meek\n",
      "Porter Stemming : aubrey realli bodi bag meek\n",
      "Lemmatizing : aubrey really body bag meek\n"
     ]
    }
   ],
   "source": [
    "x = np.random.randint(df.shape[0])\n",
    "print(\"Cleaned tweet : {}\\nPorter Stemming : {}\\nLemmatizing : {}\".format(df.iloc[x]['cleaned_text'], df.iloc[x]['Porter_stemmed'], df.iloc[x]['Lemmatized']))"
   ]
  },
  {
   "cell_type": "markdown",
   "metadata": {},
   "source": [
    "## Transforming data into vectors"
   ]
  },
  {
   "cell_type": "code",
   "execution_count": 14,
   "metadata": {},
   "outputs": [],
   "source": [
    "y_test = submission['target']\n",
    "y_train = df['target']\n",
    "X_test = df_test['Porter_stemmed']"
   ]
  },
  {
   "cell_type": "markdown",
   "metadata": {},
   "source": [
    "### Using Multinomial Naive Bayes Model"
   ]
  },
  {
   "cell_type": "markdown",
   "metadata": {},
   "source": [
    "We use TfidfVectoriser with ngram_range and build a vocabulary that only consider the top 5000 ordered by term frequency across the corpus with a min frequency of ocurrence 3"
   ]
  },
  {
   "cell_type": "code",
   "execution_count": 15,
   "metadata": {},
   "outputs": [],
   "source": [
    "ngram_range = (1,3)\n",
    "vectorizer = TfidfVectorizer(ngram_range=ngram_range,\n",
    "                            max_features=10000,\n",
    "                            min_df = 2)\n",
    "X_tfidf = vectorizer.fit_transform(df['Porter_stemmed'])"
   ]
  },
  {
   "cell_type": "code",
   "execution_count": 16,
   "metadata": {},
   "outputs": [
    {
     "name": "stdout",
     "output_type": "stream",
     "text": [
      "Train accuracy : 0.871929594115329\n",
      "Test accuracy : 0.7839411584431505\n"
     ]
    }
   ],
   "source": [
    "from sklearn.naive_bayes import MultinomialNB\n",
    "from sklearn.metrics import classification_report, confusion_matrix, accuracy_score\n",
    "\n",
    "clfNB = MultinomialNB(alpha=0.05).fit(X_tfidf, y_train)\n",
    "print(\"Train accuracy : {}\".format(accuracy_score(y_train, clfNB.predict(X_tfidf))))\n",
    "print(\"Test accuracy : {}\".format(accuracy_score(y_test, clfNB.predict(vectorizer.transform(X_test)))))"
   ]
  },
  {
   "cell_type": "code",
   "execution_count": 17,
   "metadata": {},
   "outputs": [
    {
     "data": {
      "image/png": "[encoded data removed]",
      "text/plain": [
       "<Figure size 921.6x432 with 2 Axes>"
      ]
     },
     "metadata": {
      "needs_background": "light"
     },
     "output_type": "display_data"
    }
   ],
   "source": [
    "confusion(y_train, clfNB.predict(X_tfidf))"
   ]
  },
  {
   "cell_type": "code",
   "execution_count": 18,
   "metadata": {},
   "outputs": [
    {
     "name": "stdout",
     "output_type": "stream",
     "text": [
      "              precision    recall  f1-score   support\n",
      "\n",
      "           0       0.76      0.91      0.83      1861\n",
      "           1       0.83      0.62      0.71      1402\n",
      "\n",
      "    accuracy                           0.78      3263\n",
      "   macro avg       0.80      0.76      0.77      3263\n",
      "weighted avg       0.79      0.78      0.78      3263\n",
      "\n"
     ]
    }
   ],
   "source": [
    "mnbc_pred = clfNB.predict(vectorizer.transform(X_test))\n",
    "print(classification_report(y_test, mnbc_pred))"
   ]
  },
  {
   "cell_type": "markdown",
   "metadata": {},
   "source": [
    "Using CountVectorizer as a feature extractor"
   ]
  },
  {
   "cell_type": "code",
   "execution_count": 19,
   "metadata": {},
   "outputs": [],
   "source": [
    "from sklearn.feature_extraction.text import CountVectorizer\n",
    "vectoriser = CountVectorizer()\n",
    "vect = vectoriser.fit(df['Porter_stemmed'])"
   ]
  },
  {
   "cell_type": "code",
   "execution_count": 20,
   "metadata": {},
   "outputs": [],
   "source": [
    "X_count = vect.transform(df['Porter_stemmed'])"
   ]
  },
  {
   "cell_type": "code",
   "execution_count": 21,
   "metadata": {},
   "outputs": [
    {
     "name": "stdout",
     "output_type": "stream",
     "text": [
      "Train accuracy : 0.9134375410482071\n",
      "Test accuracy : 0.7744406987434876\n"
     ]
    }
   ],
   "source": [
    "clfNB = MultinomialNB(alpha=0.1).fit(X_count, y_train)\n",
    "print(\"Train accuracy : {}\".format(accuracy_score(y_train, clfNB.predict(X_count))))\n",
    "print(\"Test accuracy : {}\".format(accuracy_score(y_test, clfNB.predict(vect.transform(X_test)))))"
   ]
  },
  {
   "cell_type": "code",
   "execution_count": 22,
   "metadata": {},
   "outputs": [
    {
     "data": {
      "image/png": "[encoded data removed]",
      "text/plain": [
       "<Figure size 921.6x432 with 2 Axes>"
      ]
     },
     "metadata": {
      "needs_background": "light"
     },
     "output_type": "display_data"
    }
   ],
   "source": [
    "confusion(y_train, clfNB.predict(X_count))"
   ]
  },
  {
   "cell_type": "code",
   "execution_count": 23,
   "metadata": {},
   "outputs": [
    {
     "name": "stdout",
     "output_type": "stream",
     "text": [
      "              precision    recall  f1-score   support\n",
      "\n",
      "           0       0.78      0.84      0.81      1861\n",
      "           1       0.76      0.69      0.72      1402\n",
      "\n",
      "    accuracy                           0.77      3263\n",
      "   macro avg       0.77      0.76      0.77      3263\n",
      "weighted avg       0.77      0.77      0.77      3263\n",
      "\n"
     ]
    }
   ],
   "source": [
    "mnbc_pred = clfNB.predict(vect.transform(X_test))\n",
    "print(classification_report(y_test,mnbc_pred))"
   ]
  },
  {
   "cell_type": "markdown",
   "metadata": {},
   "source": [
    "We try a few other models"
   ]
  },
  {
   "cell_type": "markdown",
   "metadata": {},
   "source": [
    "### Using KNN"
   ]
  },
  {
   "cell_type": "code",
   "execution_count": 24,
   "metadata": {},
   "outputs": [],
   "source": [
    "from sklearn.neighbors import KNeighborsClassifier\n",
    "neigh = KNeighborsClassifier(n_neighbors=5)"
   ]
  },
  {
   "cell_type": "code",
   "execution_count": 25,
   "metadata": {},
   "outputs": [
    {
     "name": "stdout",
     "output_type": "stream",
     "text": [
      "Train accuracy : 0.7756469197425456\n",
      "Test accuracy : 0.6628869138829299\n"
     ]
    }
   ],
   "source": [
    "# For Tfidf vectors\n",
    "neigh.fit(X_tfidf, y_train)\n",
    "print(\"Train accuracy : {}\".format(accuracy_score(y_train, neigh.predict(X_tfidf))))\n",
    "print(\"Test accuracy : {}\".format(accuracy_score(y_test, neigh.predict(vectorizer.transform(X_test)))))"
   ]
  },
  {
   "cell_type": "code",
   "execution_count": 26,
   "metadata": {},
   "outputs": [
    {
     "name": "stdout",
     "output_type": "stream",
     "text": [
      "Train accuracy : 0.7186391698410614\n",
      "Test accuracy : 0.6135458167330677\n"
     ]
    }
   ],
   "source": [
    "# For CountVectoriser vectors\n",
    "neigh.fit(X_count, y_train)\n",
    "print(\"Train accuracy : {}\".format(accuracy_score(y_train, neigh.predict(X_count))))\n",
    "print(\"Test accuracy : {}\".format(accuracy_score(y_test, neigh.predict(vect.transform(X_test)))))"
   ]
  },
  {
   "cell_type": "markdown",
   "metadata": {},
   "source": [
    "### SVM classifier"
   ]
  },
  {
   "cell_type": "markdown",
   "metadata": {},
   "source": [
    "We check the classifier for linear and rbf kernels"
   ]
  },
  {
   "cell_type": "code",
   "execution_count": 27,
   "metadata": {},
   "outputs": [],
   "source": [
    "from sklearn import svm"
   ]
  },
  {
   "cell_type": "code",
   "execution_count": 28,
   "metadata": {},
   "outputs": [
    {
     "name": "stdout",
     "output_type": "stream",
     "text": [
      "Train accuracy : 0.8907132536450808\n",
      "Test accuracy : 0.7775053631627337\n"
     ]
    }
   ],
   "source": [
    "# For Tfidf vectors\n",
    "clf = svm.SVC(kernel='linear')\n",
    "clf.fit(X_tfidf, y_train)\n",
    "print(\"Train accuracy : {}\".format(accuracy_score(y_train, clf.predict(X_tfidf))))\n",
    "print(\"Test accuracy : {}\".format(accuracy_score(y_test, clf.predict(vectorizer.transform(X_test)))))"
   ]
  },
  {
   "cell_type": "code",
   "execution_count": 29,
   "metadata": {},
   "outputs": [
    {
     "name": "stdout",
     "output_type": "stream",
     "text": [
      "Train accuracy : 0.9460133981347695\n",
      "Test accuracy : 0.7946674839105118\n"
     ]
    }
   ],
   "source": [
    "# For Tfidf vectors\n",
    "clf = svm.SVC(kernel='rbf')\n",
    "clf.fit(X_tfidf, y_train)\n",
    "print(\"Train accuracy : {}\".format(accuracy_score(y_train, clf.predict(X_tfidf))))\n",
    "print(\"Test accuracy : {}\".format(accuracy_score(y_test, clf.predict(vectorizer.transform(X_test)))))"
   ]
  },
  {
   "cell_type": "code",
   "execution_count": 30,
   "metadata": {},
   "outputs": [
    {
     "name": "stdout",
     "output_type": "stream",
     "text": [
      "Train accuracy : 0.9607250755287009\n",
      "Test accuracy : 0.7704566349984676\n"
     ]
    }
   ],
   "source": [
    "# For CountVectoriser vectors\n",
    "clf = svm.SVC(kernel='linear')\n",
    "clf.fit(X_count, y_train)\n",
    "print(\"Train accuracy : {}\".format(accuracy_score(y_train, clf.predict(X_count))))\n",
    "print(\"Test accuracy : {}\".format(accuracy_score(y_test, clf.predict(vect.transform(X_test)))))"
   ]
  },
  {
   "cell_type": "code",
   "execution_count": 31,
   "metadata": {},
   "outputs": [
    {
     "name": "stdout",
     "output_type": "stream",
     "text": [
      "Train accuracy : 0.9349796400893209\n",
      "Test accuracy : 0.7955868832362857\n"
     ]
    }
   ],
   "source": [
    "# For CountVectoriser vectors\n",
    "clf = svm.SVC(kernel='rbf')\n",
    "clf.fit(X_count, y_train)\n",
    "print(\"Train accuracy : {}\".format(accuracy_score(y_train, clf.predict(X_count))))\n",
    "print(\"Test accuracy : {}\".format(accuracy_score(y_test, clf.predict(vect.transform(X_test)))))"
   ]
  },
  {
   "cell_type": "markdown",
   "metadata": {},
   "source": [
    "We have used Porter stemmer as our stemming in above cases"
   ]
  }
 ],
 "metadata": {
  "kernelspec": {
   "display_name": "Python 3",
   "language": "python",
   "name": "python3"
  },
  "language_info": {
   "codemirror_mode": {
    "name": "ipython",
    "version": 3
   },
   "file_extension": ".py",
   "mimetype": "text/x-python",
   "name": "python",
   "nbconvert_exporter": "python",
   "pygments_lexer": "ipython3",
   "version": "3.7.6"
  }
 },
 "nbformat": 4,
 "nbformat_minor": 4
}
